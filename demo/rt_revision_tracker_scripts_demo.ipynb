{
 "cells": [
  {
   "cell_type": "markdown",
   "id": "4800f465",
   "metadata": {},
   "source": [
    "# Demo: Track Dev Branch Commits.\n",
    "- Extract single file daily & parse\n",
    "- Client makes a direct request for rt.sh from GitHub\n",
    "- rt.sh is read, preprocessed & extracts the timestamps of the relevant datasets which has been pushed on GitHub.\n",
    "- Generates a file containing the datasets' timestamps\n",
    "- Program will compare the last log file with the most recent file containing the datasets' timestamps."
   ]
  },
  {
   "cell_type": "code",
   "execution_count": 8,
   "id": "a350093f",
   "metadata": {},
   "outputs": [
    {
     "name": "stdout",
     "output_type": "stream",
     "text": [
      "\n",
      "Retrieved file saved as latest rt.sh version.\n",
      "Latest rt.sh file's hash: 1cde109f5557ba15e01bac8971f54f3001438418\n",
      "Retrieved file's hash: 4e8e5fe3a064035c660b0e8afa2fd593dbfe3134\n",
      "Updates were made to data timestamps within file since last retrieved file.\n",
      "\n",
      "Initial Timestamps at Restart:\n",
      "defaultdict(<class 'list'>, {'BL_DATE': ['11111111'], 'INPUTDATA_ROOT': ['33333333'], 'INPUTDATA_ROOT_WW3': ['48484848'], 'INPUTDATA_ROOT_BMIC': ['20220207']})\n"
     ]
    }
   ],
   "source": [
    "from rt_revision_tracker import *\n",
    "\n",
    "# Restart the accumulation of timestamps.\n",
    "rt_revision_tracker().reset_tracker()\n"
   ]
  },
  {
   "cell_type": "code",
   "execution_count": 10,
   "id": "113c564c",
   "metadata": {},
   "outputs": [
    {
     "name": "stdout",
     "output_type": "stream",
     "text": [
      "\n",
      "Timestamps (Prior to File Retrieval):\n",
      " defaultdict(<class 'list'>, {'BL_DATE': ['11111111'], 'INPUTDATA_ROOT': ['33333333'], 'INPUTDATA_ROOT_WW3': ['48484848'], 'INPUTDATA_ROOT_BMIC': ['20220207']})\n",
      "\n",
      "Retrieved file saved as latest rt.sh version.\n",
      "Latest rt.sh file's hash: 4e8e5fe3a064035c660b0e8afa2fd593dbfe3134\n",
      "Retrieved file's hash: 34e42cadda202b0892bff82d61fec577172cbf8f\n",
      "Updates were made to data timestamps within file since last retrieved file.\n",
      "\n",
      "Populated Timestamps (After a New GitHub Push Was Made):\n",
      "defaultdict(<class 'list'>, {'BL_DATE': ['11111111', '11111113'], 'INPUTDATA_ROOT': ['33333333'], 'INPUTDATA_ROOT_WW3': ['48484848'], 'INPUTDATA_ROOT_BMIC': ['20220207']})\n"
     ]
    }
   ],
   "source": [
    "from rt_revision_tracker import *\n",
    "\n",
    "# Accumulation of timestamps since time of reset.\n",
    "rt_revision_tracker().populate()"
   ]
  },
  {
   "cell_type": "code",
   "execution_count": null,
   "id": "e30fce98",
   "metadata": {},
   "outputs": [],
   "source": []
  }
 ],
 "metadata": {
  "kernelspec": {
   "display_name": "Python 3",
   "language": "python",
   "name": "python3"
  },
  "language_info": {
   "codemirror_mode": {
    "name": "ipython",
    "version": 3
   },
   "file_extension": ".py",
   "mimetype": "text/x-python",
   "name": "python",
   "nbconvert_exporter": "python",
   "pygments_lexer": "ipython3",
   "version": "3.8.8"
  }
 },
 "nbformat": 4,
 "nbformat_minor": 5
}
