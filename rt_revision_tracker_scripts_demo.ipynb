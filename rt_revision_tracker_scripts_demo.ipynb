{
 "cells": [
  {
   "cell_type": "markdown",
   "id": "4800f465",
   "metadata": {},
   "source": [
    "# Demo: Track Dev Branch Commits.\n",
    "- Extract single file daily & parse\n",
    "- Client makes a direct request for rt.sh from GitHub\n",
    "- rt.sh is read, preprocessed & extracts the timestamps of the relevant datasets which has been pushed on GitHub.\n",
    "- Generates a file containing the datasets' timestamps\n",
    "- Program will compare the last log file with the most recent file containing the datasets' timestamps."
   ]
  },
  {
   "cell_type": "code",
   "execution_count": 1,
   "id": "a350093f",
   "metadata": {
    "scrolled": true
   },
   "outputs": [
    {
     "name": "stdout",
     "output_type": "stream",
     "text": [
      "\u001b[94m\u001b[1m\n",
      "Retrieved file of interest (e.g. rt.sh) saved as latest rt.sh version...\u001b[0m\n",
      "\u001b[1mLatest rt.sh file's hash:\u001b[0m 6613303df88fee9978f9597644600632d2840bfb\n",
      "\u001b[1mRetrieved file's hash:\u001b[0m cd1b3b3afc4f5089600709d731e069768ee52743\n",
      "\u001b[1m\u001b[92mUpdates were made to data timestamps within file since last retrieved file.\u001b[0m\n",
      "\u001b[94m\u001b[1m\n",
      "Initial Timestamps at Restart:\u001b[0m\u001b[1m\n",
      "defaultdict(<function rt_revision_tracker.reset_tracker.<locals>.<lambda> at 0x7f89a4eec820>, {'06-30-2022': {'BL_DATE': ['20221110'], 'INPUTDATA_ROOT': ['20211112'], 'INPUTDATA_ROOT_WW3': ['20211113'], 'INPUTDATA_ROOT_BMIC': ['20220214']}})\u001b[0m\n"
     ]
    }
   ],
   "source": [
    "from rt_revision_tracker import *\n",
    "\n",
    "# Restart the accumulation of timestamps.\n",
    "rt_revision_tracker().reset_tracker()\n"
   ]
  },
  {
   "cell_type": "code",
   "execution_count": 2,
   "id": "113c564c",
   "metadata": {
    "scrolled": true
   },
   "outputs": [
    {
     "name": "stdout",
     "output_type": "stream",
     "text": [
      "\u001b[94m\u001b[1m\n",
      "Timestamps (Prior to File Retrieval):\u001b[0m\u001b[1m\n",
      "{'06-30-2022': {'BL_DATE': ['20221110'], 'INPUTDATA_ROOT': ['20211112'], 'INPUTDATA_ROOT_WW3': ['20211113'], 'INPUTDATA_ROOT_BMIC': ['20220214']}}\u001b[0m\n",
      "\u001b[94m\u001b[1m\n",
      "Retrieved file of interest (e.g. rt.sh) saved as latest rt.sh version...\u001b[0m\n",
      "\u001b[1mLatest rt.sh file's hash:\u001b[0m cd1b3b3afc4f5089600709d731e069768ee52743\n",
      "\u001b[1mRetrieved file's hash:\u001b[0m cd1b3b3afc4f5089600709d731e069768ee52743\n",
      "\u001b[1m\u001b[91mNo updates were made to data timestamps within file since last retrieved file.\u001b[0m\n",
      "\u001b[94m\u001b[1m\n",
      "Populated Timestamps (After Latest Newly Committed PR is Pushed to GitHub Repository of Interest):\u001b[0m\u001b[1m\n",
      "{'06-30-2022': {'BL_DATE': ['20221110'], 'INPUTDATA_ROOT': ['20211112'], 'INPUTDATA_ROOT_WW3': ['20211113'], 'INPUTDATA_ROOT_BMIC': ['20220214']}}\u001b[0m\n"
     ]
    }
   ],
   "source": [
    "from rt_revision_tracker import *\n",
    "\n",
    "# Accumulation of timestamps since time of reset.\n",
    "data_log_dict = rt_revision_tracker().populate()\n"
   ]
  }
 ],
 "metadata": {
  "kernelspec": {
   "display_name": "Python 3",
   "language": "python",
   "name": "python3"
  },
  "language_info": {
   "codemirror_mode": {
    "name": "ipython",
    "version": 3
   },
   "file_extension": ".py",
   "mimetype": "text/x-python",
   "name": "python",
   "nbconvert_exporter": "python",
   "pygments_lexer": "ipython3",
   "version": "3.8.8"
  }
 },
 "nbformat": 4,
 "nbformat_minor": 5
}
